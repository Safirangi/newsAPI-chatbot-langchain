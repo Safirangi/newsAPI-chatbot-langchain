{
 "cells": [
  {
   "cell_type": "markdown",
   "id": "79a3f6a4-8348-4cd6-a336-10ecb9cfaaa3",
   "metadata": {},
   "source": [
    "# Conversational agent"
   ]
  },
  {
   "cell_type": "code",
   "execution_count": 1,
   "id": "36261434-a96c-49e8-ad41-918d14da089a",
   "metadata": {
    "height": 116,
    "tags": []
   },
   "outputs": [],
   "source": [
    "import os\n",
    "import openai\n",
    "\n",
    "from dotenv import load_dotenv, find_dotenv\n",
    "_ = load_dotenv(find_dotenv()) # read local .env file\n",
    "openai.api_key = os.environ['OPENAI_API_KEY']"
   ]
  },
  {
   "cell_type": "code",
   "execution_count": 2,
   "id": "20f44fbb-6708-4fce-bac4-55dc261e3a2d",
   "metadata": {
    "height": 31
   },
   "outputs": [],
   "source": [
    "from langchain.tools import tool"
   ]
  },
  {
   "cell_type": "code",
   "execution_count": 28,
   "id": "aa7406eb-334b-43d0-8110-31656a55b2fd",
   "metadata": {
    "height": 556
   },
   "outputs": [],
   "source": [
    "import requests\n",
    "from pydantic import BaseModel, Field\n",
    "import datetime\n",
    "\n",
    "# Define the input schema\n",
    "class NewsAPI(BaseModel):\n",
    "    keyword: str = Field(..., description=\"keyword to search for in the news articles\")\n",
    "\n",
    "@tool(args_schema=NewsAPI)\n",
    "def get_keyword_news(keyword: str) -> dict:\n",
    "    \"\"\"Fetch news articles for the given specific topic or keyword\"\"\"\n",
    "    \n",
    "    API_KEY = \"18d86d14e08b493bbe47f16380c4ad08\"\n",
    "    BASE_URL = f\"https://newsapi.org/v2/everything\"\n",
    "    \n",
    "    # Parameters for the request\n",
    "    params = {\n",
    "        'q': keyword,\n",
    "        'pageSize': 5,\n",
    "        'apiKey': API_KEY,\n",
    "    }\n",
    "\n",
    "    # Make the request\n",
    "    response = requests.get(BASE_URL, params=params)\n",
    "    \n",
    "    if response.status_code == 200:\n",
    "        results = response.json()\n",
    "    else:\n",
    "        raise Exception(f\"API Request failed with status code: {response.status_code}\")\n",
    "    \n",
    "    return results"
   ]
  },
  {
   "cell_type": "code",
   "execution_count": 29,
   "id": "3ac0a1e7-567f-4775-a538-351a5ff099e8",
   "metadata": {
    "height": 352
   },
   "outputs": [],
   "source": [
    "import wikipedia\n",
    "\n",
    "@tool\n",
    "def search_wikipedia(query: str) -> str:\n",
    "    \"\"\"Run Wikipedia search and get page summaries.\"\"\"\n",
    "    page_titles = wikipedia.search(query)\n",
    "    summaries = []\n",
    "    for page_title in page_titles[: 3]:\n",
    "        try:\n",
    "            wiki_page =  wikipedia.page(title=page_title, auto_suggest=False)\n",
    "            summaries.append(f\"Page: {page_title}\\nSummary: {wiki_page.summary}\")\n",
    "        except (\n",
    "            self.wiki_client.exceptions.PageError,\n",
    "            self.wiki_client.exceptions.DisambiguationError,\n",
    "        ):\n",
    "            pass\n",
    "    if not summaries:\n",
    "        return \"No good Wikipedia Search Result was found\"\n",
    "    return \"\\n\\n\".join(summaries)"
   ]
  },
  {
   "cell_type": "code",
   "execution_count": 30,
   "id": "4856d233-0916-4b97-8a7c-b494d5f2b8e0",
   "metadata": {
    "height": 31
   },
   "outputs": [],
   "source": [
    "tools = [get_keyword_news, search_wikipedia]"
   ]
  },
  {
   "cell_type": "code",
   "execution_count": 31,
   "id": "cdf0d789-559b-42df-9d6d-77a0cd8888d6",
   "metadata": {
    "height": 97
   },
   "outputs": [],
   "source": [
    "from langchain.chat_models import ChatOpenAI\n",
    "from langchain.prompts import ChatPromptTemplate\n",
    "from langchain.tools.render import format_tool_to_openai_function\n",
    "from langchain.agents.output_parsers import OpenAIFunctionsAgentOutputParser"
   ]
  },
  {
   "cell_type": "code",
   "execution_count": 32,
   "id": "933ce7cb-099c-4f43-a548-b355a5b66511",
   "metadata": {
    "height": 133
   },
   "outputs": [],
   "source": [
    "functions = [format_tool_to_openai_function(f) for f in tools]\n",
    "model = ChatOpenAI(temperature=0).bind(functions=functions)\n",
    "prompt = ChatPromptTemplate.from_messages([\n",
    "    (\"system\", \"You are helpful but sassy assistant\"),\n",
    "    (\"user\", \"{input}\"),\n",
    "])\n",
    "chain = prompt | model | OpenAIFunctionsAgentOutputParser()"
   ]
  },
  {
   "cell_type": "code",
   "execution_count": 35,
   "id": "4281a2d8-7884-40e0-b34d-09c39eecbb7a",
   "metadata": {
    "height": 48
   },
   "outputs": [
    {
     "data": {
      "text/plain": [
       "AgentActionMessageLog(tool='get_keyword_news', tool_input={'keyword': 'Mars'}, log=\"\\nInvoking: `get_keyword_news` with `{'keyword': 'Mars'}`\\n\\n\\n\", message_log=[AIMessage(content='', additional_kwargs={'function_call': {'name': 'get_keyword_news', 'arguments': '{\"keyword\":\"Mars\"}'}})])"
      ]
     },
     "execution_count": 35,
     "metadata": {},
     "output_type": "execute_result"
    }
   ],
   "source": [
    "result = chain.invoke({\"input\": \"what is news about Mars\"})\n",
    "result"
   ]
  },
  {
   "cell_type": "code",
   "execution_count": 34,
   "id": "b1dbc697-3e0a-4197-8ddc-2894763b4b85",
   "metadata": {
    "height": 31
   },
   "outputs": [
    {
     "data": {
      "text/plain": [
       "'get_keyword_news'"
      ]
     },
     "execution_count": 34,
     "metadata": {},
     "output_type": "execute_result"
    }
   ],
   "source": [
    "result.tool"
   ]
  },
  {
   "cell_type": "code",
   "execution_count": 10,
   "id": "ab829b59-803f-488f-bcf3-5119c224baa0",
   "metadata": {
    "height": 31
   },
   "outputs": [
    {
     "data": {
      "text/plain": [
       "{'keyword': 'Mars'}"
      ]
     },
     "execution_count": 10,
     "metadata": {},
     "output_type": "execute_result"
    }
   ],
   "source": [
    "result.tool_input"
   ]
  },
  {
   "cell_type": "code",
   "execution_count": 36,
   "id": "52b4d483-c498-4932-a373-bc2f4da17c7f",
   "metadata": {
    "height": 116
   },
   "outputs": [],
   "source": [
    "from langchain.prompts import MessagesPlaceholder\n",
    "prompt = ChatPromptTemplate.from_messages([\n",
    "    (\"system\", \"You are helpful but sassy assistant\"),\n",
    "    (\"user\", \"{input}\"),\n",
    "    MessagesPlaceholder(variable_name=\"agent_scratchpad\")\n",
    "])"
   ]
  },
  {
   "cell_type": "code",
   "execution_count": 37,
   "id": "66ac6ea2-0e20-424a-ba33-6f8d627379b5",
   "metadata": {
    "height": 31
   },
   "outputs": [],
   "source": [
    "chain = prompt | model | OpenAIFunctionsAgentOutputParser()"
   ]
  },
  {
   "cell_type": "code",
   "execution_count": 38,
   "id": "bada1de8-d7c4-4880-98c2-d47cc65f684d",
   "metadata": {
    "height": 82
   },
   "outputs": [],
   "source": [
    "result1 = chain.invoke({\n",
    "    \"input\": \"what is news on Mars?\",\n",
    "    \"agent_scratchpad\": []\n",
    "})"
   ]
  },
  {
   "cell_type": "code",
   "execution_count": 39,
   "id": "8d5f4e61-36a3-4d80-9c49-0b83cedb1592",
   "metadata": {
    "height": 31
   },
   "outputs": [
    {
     "data": {
      "text/plain": [
       "AgentActionMessageLog(tool='get_keyword_news', tool_input={'keyword': 'Mars'}, log=\"\\nInvoking: `get_keyword_news` with `{'keyword': 'Mars'}`\\n\\n\\n\", message_log=[AIMessage(content='', additional_kwargs={'function_call': {'name': 'get_keyword_news', 'arguments': '{\"keyword\":\"Mars\"}'}})])"
      ]
     },
     "execution_count": 39,
     "metadata": {},
     "output_type": "execute_result"
    }
   ],
   "source": [
    "result1"
   ]
  },
  {
   "cell_type": "code",
   "execution_count": 40,
   "id": "11845c11-7d41-455a-8ac0-4b8161acaf83",
   "metadata": {
    "height": 31
   },
   "outputs": [],
   "source": [
    "observation = get_keyword_news(result1.tool_input)"
   ]
  },
  {
   "cell_type": "code",
   "execution_count": 41,
   "id": "810184c8-8495-4189-b83e-17220cf65bbe",
   "metadata": {
    "height": 31
   },
   "outputs": [
    {
     "data": {
      "text/plain": [
       "{'status': 'ok',\n",
       " 'totalResults': 7464,\n",
       " 'articles': [{'source': {'id': 'wired', 'name': 'Wired'},\n",
       "   'author': 'Becky Ferreira',\n",
       "   'title': 'To Find Alien Life, We Might Have to Kill It',\n",
       "   'description': 'Missions to explore other worlds, like Mars or Saturn’s moon Titan, could disrupt or destroy extraterrestrial life in the process of seeking it.',\n",
       "   'url': 'https://www.wired.com/story/alien-life-killing-ethics-mars-rovers-titan-moon-europa-clipper-dragonfly/',\n",
       "   'urlToImage': 'https://media.wired.com/photos/66984a1d48990fd300c9e57c/191:100/w_1280,c_limit/science_ethics_killing_alien_life.jpg',\n",
       "   'publishedAt': '2024-07-18T11:00:00Z',\n",
       "   'content': 'When is it OK to kill an alien life-form?\\r\\nIn the movies, the answer is usually pretty simple: Its OK in self-defense, especially if it inspires a rousing speech about human exceptionalism. But in th… [+3034 chars]'},\n",
       "  {'source': {'id': None, 'name': 'Gizmodo.com'},\n",
       "   'author': 'Adam Kovac',\n",
       "   'title': 'Mars Missions Face Unexpected Challenge: Expired Meds',\n",
       "   'description': 'Astronauts get aches, pains, and allergies just like those of us back on Earth, but they may be out of luck if the pills go bad before they return home from the Red Planet.',\n",
       "   'url': 'https://gizmodo.com/mars-missions-face-unexpected-challenge-expired-meds-2000478111',\n",
       "   'urlToImage': 'https://gizmodo.com/app/uploads/2024/07/mars.jpg',\n",
       "   'publishedAt': '2024-07-24T10:00:19Z',\n",
       "   'content': 'You know that thing when youve got a godawful cold and you go into your medicine cabinet to dig out the DayQuil thats been sitting there since forever and are about to pop the capsules into your mout… [+2660 chars]'},\n",
       "  {'source': {'id': None, 'name': 'Gizmodo.com'},\n",
       "   'author': 'Oscar Gonzalez',\n",
       "   'title': 'Elon Musk Needs a Win, Says He Wants to Fight Zuck Again',\n",
       "   'description': 'Elon will likely colonize Mars before he steps foot in a ring with Zuck.',\n",
       "   'url': 'https://gizmodo.com/elon-musk-needs-a-win-says-he-wants-to-fight-zuck-again-2000479042',\n",
       "   'urlToImage': 'https://gizmodo.com/app/uploads/2024/07/GettyImages-1258928014-e1721930938776.jpg',\n",
       "   'publishedAt': '2024-07-25T19:00:24Z',\n",
       "   'content': 'Remember the big fight between Elon Musk and Mark Zuckerberg that was supposed to happen last year? Well, that ended up not coming to fruition thanks to Musk ducking Zuck by asking for ridiculous sti… [+1919 chars]'},\n",
       "  {'source': {'id': None, 'name': 'Gizmodo.com'},\n",
       "   'author': 'Oscar Gonzalez',\n",
       "   'title': 'I Regret to Inform You That Elon Musk Has Accepted Nicolas Maduro’s Fight Challenge',\n",
       "   'description': \"Musk says he'll give the Venezuelan president a free ride to Mars if he loses.\",\n",
       "   'url': 'https://gizmodo.com/i-regret-to-inform-you-that-elon-musk-has-accepted-nicolas-maduros-fight-challenge-2000481804',\n",
       "   'urlToImage': 'https://gizmodo.com/app/uploads/2024/07/GettyImages-1851950799-e1722453415528.jpg',\n",
       "   'publishedAt': '2024-07-31T20:00:27Z',\n",
       "   'content': 'Elon Musk is itching for a fightor that’s what he says, at least. Even though he keeps ducking Meta CEO Mark Zuckerberg, the Tesla CEO says he’ll accept a challenge from the president of Venezuela, N… [+1979 chars]'},\n",
       "  {'source': {'id': None, 'name': 'Gizmodo.com'},\n",
       "   'author': 'Passant Rabie',\n",
       "   'title': 'NASA’s Curiosity Rover Uncovers Trove of Yellow Crystals on Mars',\n",
       "   'description': 'This is the first time pure sulfur has been found on the Red Planet.',\n",
       "   'url': 'https://gizmodo.com/nasas-curiosity-rover-uncovers-trove-of-yellow-crystals-on-mars-2000476772',\n",
       "   'urlToImage': 'https://gizmodo.com/app/uploads/2024/07/1-PIA26309-Curiosity_Views_Sulfur_Crystals_Wi.width-1320-e1721404931108.jpg',\n",
       "   'publishedAt': '2024-07-19T17:18:37Z',\n",
       "   'content': 'For nearly 10 years, NASA’s four-wheeled robot has been climbing the foothills of Mount Sharp, a tall mountain on Mars that stands above an ancient crater, uncovering mysteries with each of its layer… [+2344 chars]'}]}"
      ]
     },
     "execution_count": 41,
     "metadata": {},
     "output_type": "execute_result"
    }
   ],
   "source": [
    "observation"
   ]
  },
  {
   "cell_type": "code",
   "execution_count": 20,
   "id": "8c1b223d-ea2a-414c-924c-512c4c9da66a",
   "metadata": {
    "height": 31
   },
   "outputs": [
    {
     "data": {
      "text/plain": [
       "langchain.schema.agent.AgentActionMessageLog"
      ]
     },
     "execution_count": 20,
     "metadata": {},
     "output_type": "execute_result"
    }
   ],
   "source": [
    "type(result1)"
   ]
  },
  {
   "cell_type": "code",
   "execution_count": 42,
   "id": "61853679-75b5-4462-8059-f1214286a9eb",
   "metadata": {
    "height": 46
   },
   "outputs": [],
   "source": [
    "from langchain.agents.format_scratchpad import format_to_openai_functions"
   ]
  },
  {
   "cell_type": "code",
   "execution_count": 43,
   "id": "72ca4278-165a-4915-8ec6-09e696f29d86",
   "metadata": {
    "height": 31
   },
   "outputs": [
    {
     "data": {
      "text/plain": [
       "[AIMessage(content='', additional_kwargs={'function_call': {'name': 'get_keyword_news', 'arguments': '{\"keyword\":\"Mars\"}'}})]"
      ]
     },
     "execution_count": 43,
     "metadata": {},
     "output_type": "execute_result"
    }
   ],
   "source": [
    "result1.message_log"
   ]
  },
  {
   "cell_type": "code",
   "execution_count": 44,
   "id": "27e079a7-d58c-41c0-8762-4e183e72a1d1",
   "metadata": {
    "height": 31
   },
   "outputs": [
    {
     "data": {
      "text/plain": [
       "[AIMessage(content='', additional_kwargs={'function_call': {'name': 'get_keyword_news', 'arguments': '{\"keyword\":\"Mars\"}'}}),\n",
       " FunctionMessage(content='{\"status\": \"ok\", \"totalResults\": 7464, \"articles\": [{\"source\": {\"id\": \"wired\", \"name\": \"Wired\"}, \"author\": \"Becky Ferreira\", \"title\": \"To Find Alien Life, We Might Have to Kill It\", \"description\": \"Missions to explore other worlds, like Mars or Saturn’s moon Titan, could disrupt or destroy extraterrestrial life in the process of seeking it.\", \"url\": \"https://www.wired.com/story/alien-life-killing-ethics-mars-rovers-titan-moon-europa-clipper-dragonfly/\", \"urlToImage\": \"https://media.wired.com/photos/66984a1d48990fd300c9e57c/191:100/w_1280,c_limit/science_ethics_killing_alien_life.jpg\", \"publishedAt\": \"2024-07-18T11:00:00Z\", \"content\": \"When is it OK to kill an alien life-form?\\\\r\\\\nIn the movies, the answer is usually pretty simple: Its OK in self-defense, especially if it inspires a rousing speech about human exceptionalism. But in th… [+3034 chars]\"}, {\"source\": {\"id\": null, \"name\": \"Gizmodo.com\"}, \"author\": \"Adam Kovac\", \"title\": \"Mars Missions Face Unexpected Challenge: Expired Meds\", \"description\": \"Astronauts get aches, pains, and allergies just like those of us back on Earth, but they may be out of luck if the pills go bad before they return home from the Red Planet.\", \"url\": \"https://gizmodo.com/mars-missions-face-unexpected-challenge-expired-meds-2000478111\", \"urlToImage\": \"https://gizmodo.com/app/uploads/2024/07/mars.jpg\", \"publishedAt\": \"2024-07-24T10:00:19Z\", \"content\": \"You know that thing when youve got a godawful cold and you go into your medicine cabinet to dig out the DayQuil thats been sitting there since forever and are about to pop the capsules into your mout… [+2660 chars]\"}, {\"source\": {\"id\": null, \"name\": \"Gizmodo.com\"}, \"author\": \"Oscar Gonzalez\", \"title\": \"Elon Musk Needs a Win, Says He Wants to Fight Zuck Again\", \"description\": \"Elon will likely colonize Mars before he steps foot in a ring with Zuck.\", \"url\": \"https://gizmodo.com/elon-musk-needs-a-win-says-he-wants-to-fight-zuck-again-2000479042\", \"urlToImage\": \"https://gizmodo.com/app/uploads/2024/07/GettyImages-1258928014-e1721930938776.jpg\", \"publishedAt\": \"2024-07-25T19:00:24Z\", \"content\": \"Remember the big fight between Elon Musk and Mark Zuckerberg that was supposed to happen last year? Well, that ended up not coming to fruition thanks to Musk ducking Zuck by asking for ridiculous sti… [+1919 chars]\"}, {\"source\": {\"id\": null, \"name\": \"Gizmodo.com\"}, \"author\": \"Oscar Gonzalez\", \"title\": \"I Regret to Inform You That Elon Musk Has Accepted Nicolas Maduro’s Fight Challenge\", \"description\": \"Musk says he\\'ll give the Venezuelan president a free ride to Mars if he loses.\", \"url\": \"https://gizmodo.com/i-regret-to-inform-you-that-elon-musk-has-accepted-nicolas-maduros-fight-challenge-2000481804\", \"urlToImage\": \"https://gizmodo.com/app/uploads/2024/07/GettyImages-1851950799-e1722453415528.jpg\", \"publishedAt\": \"2024-07-31T20:00:27Z\", \"content\": \"Elon Musk is itching for a fightor that’s what he says, at least. Even though he keeps ducking Meta CEO Mark Zuckerberg, the Tesla CEO says he’ll accept a challenge from the president of Venezuela, N… [+1979 chars]\"}, {\"source\": {\"id\": null, \"name\": \"Gizmodo.com\"}, \"author\": \"Passant Rabie\", \"title\": \"NASA’s Curiosity Rover Uncovers Trove of Yellow Crystals on Mars\", \"description\": \"This is the first time pure sulfur has been found on the Red Planet.\", \"url\": \"https://gizmodo.com/nasas-curiosity-rover-uncovers-trove-of-yellow-crystals-on-mars-2000476772\", \"urlToImage\": \"https://gizmodo.com/app/uploads/2024/07/1-PIA26309-Curiosity_Views_Sulfur_Crystals_Wi.width-1320-e1721404931108.jpg\", \"publishedAt\": \"2024-07-19T17:18:37Z\", \"content\": \"For nearly 10 years, NASA’s four-wheeled robot has been climbing the foothills of Mount Sharp, a tall mountain on Mars that stands above an ancient crater, uncovering mysteries with each of its layer… [+2344 chars]\"}]}', name='get_keyword_news')]"
      ]
     },
     "execution_count": 44,
     "metadata": {},
     "output_type": "execute_result"
    }
   ],
   "source": [
    "format_to_openai_functions([(result1, observation), ])"
   ]
  },
  {
   "cell_type": "code",
   "execution_count": 49,
   "id": "09735a9e-452d-472b-a4c0-35c315e9e53f",
   "metadata": {
    "height": 97
   },
   "outputs": [],
   "source": [
    "result2 = chain.invoke({\n",
    "    \"input\": \"what is news about moon?\", \n",
    "    \"agent_scratchpad\": format_to_openai_functions([(result1, observation)])\n",
    "})"
   ]
  },
  {
   "cell_type": "code",
   "execution_count": 50,
   "id": "9df61ecc-52fe-4fae-85a2-dbb61d68e2db",
   "metadata": {
    "height": 31
   },
   "outputs": [
    {
     "data": {
      "text/plain": [
       "AgentFinish(return_values={'output': \"I found some interesting news articles related to Mars:\\n\\n1. Title: [To Find Alien Life, We Might Have to Kill It](https://www.wired.com/story/alien-life-killing-ethics-mars-rovers-titan-moon-europa-clipper-dragonfly/)\\n   Source: Wired\\n   Description: Missions to explore other worlds, like Mars or Saturn’s moon Titan, could disrupt or destroy extraterrestrial life in the process of seeking it.\\n   Published At: 2024-07-18\\n\\n2. Title: [Mars Missions Face Unexpected Challenge: Expired Meds](https://gizmodo.com/mars-missions-face-unexpected-challenge-expired-meds-2000478111)\\n   Source: Gizmodo.com\\n   Description: Astronauts on Mars missions may face challenges with expired medications.\\n   Published At: 2024-07-24\\n\\n3. Title: [Elon Musk Needs a Win, Says He Wants to Fight Zuck Again](https://gizmodo.com/elon-musk-needs-a-win-says-he-wants-to-fight-zuck-again-2000479042)\\n   Source: Gizmodo.com\\n   Description: Elon Musk expresses interest in fighting Mark Zuckerberg again.\\n   Published At: 2024-07-25\\n\\n4. Title: [I Regret to Inform You That Elon Musk Has Accepted Nicolas Maduro’s Fight Challenge](https://gizmodo.com/i-regret-to-inform-you-that-elon-musk-has-accepted-nicolas-maduros-fight-challenge-2000481804)\\n   Source: Gizmodo.com\\n   Description: Elon Musk accepts a challenge from the president of Venezuela.\\n   Published At: 2024-07-31\\n\\n5. Title: [NASA’s Curiosity Rover Uncovers Trove of Yellow Crystals on Mars](https://gizmodo.com/nasas-curiosity-rover-uncovers-trove-of-yellow-crystals-on-mars-2000476772)\\n   Source: Gizmodo.com\\n   Description: NASA's Curiosity Rover discovers pure sulfur crystals on Mars.\\n   Published At: 2024-07-19\\n\\nFeel free to click on the links to read more about these Mars-related news articles!\"}, log=\"I found some interesting news articles related to Mars:\\n\\n1. Title: [To Find Alien Life, We Might Have to Kill It](https://www.wired.com/story/alien-life-killing-ethics-mars-rovers-titan-moon-europa-clipper-dragonfly/)\\n   Source: Wired\\n   Description: Missions to explore other worlds, like Mars or Saturn’s moon Titan, could disrupt or destroy extraterrestrial life in the process of seeking it.\\n   Published At: 2024-07-18\\n\\n2. Title: [Mars Missions Face Unexpected Challenge: Expired Meds](https://gizmodo.com/mars-missions-face-unexpected-challenge-expired-meds-2000478111)\\n   Source: Gizmodo.com\\n   Description: Astronauts on Mars missions may face challenges with expired medications.\\n   Published At: 2024-07-24\\n\\n3. Title: [Elon Musk Needs a Win, Says He Wants to Fight Zuck Again](https://gizmodo.com/elon-musk-needs-a-win-says-he-wants-to-fight-zuck-again-2000479042)\\n   Source: Gizmodo.com\\n   Description: Elon Musk expresses interest in fighting Mark Zuckerberg again.\\n   Published At: 2024-07-25\\n\\n4. Title: [I Regret to Inform You That Elon Musk Has Accepted Nicolas Maduro’s Fight Challenge](https://gizmodo.com/i-regret-to-inform-you-that-elon-musk-has-accepted-nicolas-maduros-fight-challenge-2000481804)\\n   Source: Gizmodo.com\\n   Description: Elon Musk accepts a challenge from the president of Venezuela.\\n   Published At: 2024-07-31\\n\\n5. Title: [NASA’s Curiosity Rover Uncovers Trove of Yellow Crystals on Mars](https://gizmodo.com/nasas-curiosity-rover-uncovers-trove-of-yellow-crystals-on-mars-2000476772)\\n   Source: Gizmodo.com\\n   Description: NASA's Curiosity Rover discovers pure sulfur crystals on Mars.\\n   Published At: 2024-07-19\\n\\nFeel free to click on the links to read more about these Mars-related news articles!\")"
      ]
     },
     "execution_count": 50,
     "metadata": {},
     "output_type": "execute_result"
    }
   ],
   "source": [
    "result2"
   ]
  },
  {
   "cell_type": "code",
   "execution_count": 52,
   "id": "d9dd139f-e06a-4148-a025-ae100851c63e",
   "metadata": {
    "height": 301
   },
   "outputs": [],
   "source": [
    "from langchain.schema.agent import AgentFinish\n",
    "def run_agent(user_input):\n",
    "    intermediate_steps = []\n",
    "    while True:\n",
    "        result = chain.invoke({\n",
    "            \"input\": user_input, \n",
    "            \"agent_scratchpad\": format_to_openai_functions(intermediate_steps)\n",
    "        })\n",
    "        if isinstance(result, AgentFinish):\n",
    "            return result\n",
    "        tool = {\n",
    "            \"search_wikipedia\": search_wikipedia, \n",
    "            \"get_keyword_news\": get_keyword_news,\n",
    "        }[result.tool]\n",
    "        observation = tool.run(result.tool_input)\n",
    "        intermediate_steps.append((result, observation))"
   ]
  },
  {
   "cell_type": "code",
   "execution_count": 53,
   "id": "4f6c1121-70a6-41ae-8c3d-41f7cfc756af",
   "metadata": {
    "height": 97
   },
   "outputs": [],
   "source": [
    "from langchain.schema.runnable import RunnablePassthrough\n",
    "agent_chain = RunnablePassthrough.assign(\n",
    "    agent_scratchpad= lambda x: format_to_openai_functions(x[\"intermediate_steps\"])\n",
    ") | chain"
   ]
  },
  {
   "cell_type": "code",
   "execution_count": 54,
   "id": "4a05df88-4ad9-4c48-a7dd-6b42db91cb33",
   "metadata": {
    "height": 269
   },
   "outputs": [],
   "source": [
    "def run_agent(user_input):\n",
    "    intermediate_steps = []\n",
    "    while True:\n",
    "        result = agent_chain.invoke({\n",
    "            \"input\": user_input, \n",
    "            \"intermediate_steps\": intermediate_steps\n",
    "        })\n",
    "        if isinstance(result, AgentFinish):\n",
    "            return result\n",
    "        tool = {\n",
    "            \"search_wikipedia\": search_wikipedia, \n",
    "            \"get_keyword_news\": get_keyword_news,\n",
    "        }[result.tool]\n",
    "        observation = tool.run(result.tool_input)\n",
    "        intermediate_steps.append((result, observation))"
   ]
  },
  {
   "cell_type": "code",
   "execution_count": 55,
   "id": "d8bf88b6-9992-4041-8344-ef4921bf3cf2",
   "metadata": {
    "height": 31
   },
   "outputs": [
    {
     "data": {
      "text/plain": [
       "AgentFinish(return_values={'output': \"I found some news articles about the moon:\\n\\n1. **[Newly Discovered Moon Caves Could One Day House Astronauts](https://www.wired.com/story/moon-tunnels-caves-astronauts-moon-colony/)** - Analysis of lunar imagery has ended a longstanding debate over whether there are accessible underground areas on the Moon; an emptied lava tube in the Sea of Tranquility is of particular interest. (Published on: 2024-07-18)\\n\\n2. **[To Find Alien Life, We Might Have to Kill It](https://www.wired.com/story/alien-life-killing-ethics-mars-rovers-titan-moon-europa-clipper-dragonfly/)** - Missions to explore other worlds, like Mars or Saturn’s moon Titan, could disrupt or destroy extraterrestrial life in the process of seeking it. (Published on: 2024-07-18)\\n\\n3. **[Trump's Crypto Embrace Could Be a Disaster for Bitcoin](https://www.wired.com/story/donald-trump-bitcoin-reserve-promises/)** - At the Bitcoin 2024 conference in Nashville, Donald Trump promised the crypto community the moon. They'd better hope they don't get it. (Published on: 2024-08-02)\\n\\n4. **[NASA scraps its VIPER project that aimed to look for ice on the moon](https://consent.yahoo.com/v2/collectConsent?sessionId=1_cc-session_e77a33ba-52dc-4de3-8d07-a3713db2f810)** - NASA's Volatiles Investigating Polar Exploration Rover or VIPER was going to look for water ice at the moon's south pole. The agency was hoping that it could help answer important questions about water on the moon. (Published on: 2024-07-18)\\n\\n5. **[The Trump Shooting, Conspiracies, and Calls for War](https://www.wired.com/story/trump-shooting-conspiracies-war/)** - In the days since the shooting at Trump’s Pennsylvania rally, a slew of conspiracy theories have taken off, including one about the Moon landing being faked. (Published on: 2024-07-18)\\n\\nFeel free to click on the links to read more about each news article!\"}, log=\"I found some news articles about the moon:\\n\\n1. **[Newly Discovered Moon Caves Could One Day House Astronauts](https://www.wired.com/story/moon-tunnels-caves-astronauts-moon-colony/)** - Analysis of lunar imagery has ended a longstanding debate over whether there are accessible underground areas on the Moon; an emptied lava tube in the Sea of Tranquility is of particular interest. (Published on: 2024-07-18)\\n\\n2. **[To Find Alien Life, We Might Have to Kill It](https://www.wired.com/story/alien-life-killing-ethics-mars-rovers-titan-moon-europa-clipper-dragonfly/)** - Missions to explore other worlds, like Mars or Saturn’s moon Titan, could disrupt or destroy extraterrestrial life in the process of seeking it. (Published on: 2024-07-18)\\n\\n3. **[Trump's Crypto Embrace Could Be a Disaster for Bitcoin](https://www.wired.com/story/donald-trump-bitcoin-reserve-promises/)** - At the Bitcoin 2024 conference in Nashville, Donald Trump promised the crypto community the moon. They'd better hope they don't get it. (Published on: 2024-08-02)\\n\\n4. **[NASA scraps its VIPER project that aimed to look for ice on the moon](https://consent.yahoo.com/v2/collectConsent?sessionId=1_cc-session_e77a33ba-52dc-4de3-8d07-a3713db2f810)** - NASA's Volatiles Investigating Polar Exploration Rover or VIPER was going to look for water ice at the moon's south pole. The agency was hoping that it could help answer important questions about water on the moon. (Published on: 2024-07-18)\\n\\n5. **[The Trump Shooting, Conspiracies, and Calls for War](https://www.wired.com/story/trump-shooting-conspiracies-war/)** - In the days since the shooting at Trump’s Pennsylvania rally, a slew of conspiracy theories have taken off, including one about the Moon landing being faked. (Published on: 2024-07-18)\\n\\nFeel free to click on the links to read more about each news article!\")"
      ]
     },
     "execution_count": 55,
     "metadata": {},
     "output_type": "execute_result"
    }
   ],
   "source": [
    "run_agent(\"what is news about moon?\")"
   ]
  },
  {
   "cell_type": "code",
   "execution_count": 56,
   "id": "4c94a493-b480-409a-968a-038c8895709c",
   "metadata": {
    "height": 31
   },
   "outputs": [
    {
     "data": {
      "text/plain": [
       "AgentFinish(return_values={'output': 'LangChain is a framework designed to simplify the creation of applications using large language models (LLMs). It is a language model integration framework with use-cases including document analysis and summarization, chatbots, and code analysis.'}, log='LangChain is a framework designed to simplify the creation of applications using large language models (LLMs). It is a language model integration framework with use-cases including document analysis and summarization, chatbots, and code analysis.')"
      ]
     },
     "execution_count": 56,
     "metadata": {},
     "output_type": "execute_result"
    }
   ],
   "source": [
    "run_agent(\"what is langchain?\")"
   ]
  },
  {
   "cell_type": "code",
   "execution_count": 57,
   "id": "7c8c6fd7-7c8c-487a-81de-1dcff739a2f9",
   "metadata": {
    "height": 31
   },
   "outputs": [
    {
     "data": {
      "text/plain": [
       "AgentFinish(return_values={'output': 'Well, hello there! How can I assist you today?'}, log='Well, hello there! How can I assist you today?')"
      ]
     },
     "execution_count": 57,
     "metadata": {},
     "output_type": "execute_result"
    }
   ],
   "source": [
    "run_agent(\"hi!\")"
   ]
  },
  {
   "cell_type": "code",
   "execution_count": 58,
   "id": "b270a064-8cf1-44da-a59e-be622f9099b9",
   "metadata": {
    "height": 63
   },
   "outputs": [],
   "source": [
    "from langchain.agents import AgentExecutor\n",
    "agent_executor = AgentExecutor(agent=agent_chain, tools=tools, verbose=True)"
   ]
  },
  {
   "cell_type": "code",
   "execution_count": 59,
   "id": "87baebf4-2555-4e98-aece-a1c327644817",
   "metadata": {
    "height": 31
   },
   "outputs": [
    {
     "name": "stdout",
     "output_type": "stream",
     "text": [
      "\n",
      "\n",
      "\u001b[1m> Entering new AgentExecutor chain...\u001b[0m\n",
      "\u001b[32;1m\u001b[1;3m\n",
      "Invoking: `search_wikipedia` with `{'query': 'Langchain'}`\n",
      "\n",
      "\n",
      "\u001b[0m\u001b[33;1m\u001b[1;3mPage: LangChain\n",
      "Summary: LangChain is a framework designed to simplify the creation of applications using large language models (LLMs). As a language model integration framework, LangChain's use-cases largely overlap with those of language models in general, including document analysis and summarization, chatbots, and code analysis.\n",
      "\n",
      "\n",
      "\n",
      "Page: Retrieval-augmented generation\n",
      "Summary: Retrieval augmented generation (RAG) is a type of information retrieval process. It modifies interactions with a large language model (LLM) so that it responds to queries with reference to a specified set of documents, using it in preference to information drawn from its own vast, static training data. This allows LLMs to use domain-specific and/or updated information.  \n",
      "Use cases include providing chatbot access to internal company data, or giving factual information only from an authoritative source.\n",
      "\n",
      "Page: DataStax\n",
      "Summary: DataStax, Inc. is a real-time data for AI company based in Santa Clara, California. Its product Astra DB is a cloud database-as-a-service based on Apache Cassandra. DataStax also offers DataStax Enterprise (DSE), an on-premises database built on Apache Cassandra, and Astra Streaming, a messaging and event streaming cloud service based on Apache Pulsar. As of June 2022, the company has roughly 800 customers distributed in over 50 countries.\u001b[0m\u001b[32;1m\u001b[1;3mLangChain is a framework designed to simplify the creation of applications using large language models (LLMs). It is a language model integration framework with use-cases including document analysis and summarization, chatbots, and code analysis.\u001b[0m\n",
      "\n",
      "\u001b[1m> Finished chain.\u001b[0m\n"
     ]
    },
    {
     "data": {
      "text/plain": [
       "{'input': 'what is langchain?',\n",
       " 'output': 'LangChain is a framework designed to simplify the creation of applications using large language models (LLMs). It is a language model integration framework with use-cases including document analysis and summarization, chatbots, and code analysis.'}"
      ]
     },
     "execution_count": 59,
     "metadata": {},
     "output_type": "execute_result"
    }
   ],
   "source": [
    "agent_executor.invoke({\"input\": \"what is langchain?\"})"
   ]
  },
  {
   "cell_type": "code",
   "execution_count": 60,
   "id": "c2da813c-47c3-487e-8c43-444c9b4d9821",
   "metadata": {
    "height": 31
   },
   "outputs": [
    {
     "name": "stdout",
     "output_type": "stream",
     "text": [
      "\n",
      "\n",
      "\u001b[1m> Entering new AgentExecutor chain...\u001b[0m\n",
      "\u001b[32;1m\u001b[1;3mNice to meet you, Bob! How can I assist you today?\u001b[0m\n",
      "\n",
      "\u001b[1m> Finished chain.\u001b[0m\n"
     ]
    },
    {
     "data": {
      "text/plain": [
       "{'input': 'my name is bob',\n",
       " 'output': 'Nice to meet you, Bob! How can I assist you today?'}"
      ]
     },
     "execution_count": 60,
     "metadata": {},
     "output_type": "execute_result"
    }
   ],
   "source": [
    "agent_executor.invoke({\"input\": \"my name is bob\"})"
   ]
  },
  {
   "cell_type": "code",
   "execution_count": 61,
   "id": "15ba8a9f-fcb2-44d0-878f-3017f607e955",
   "metadata": {
    "height": 31
   },
   "outputs": [
    {
     "name": "stdout",
     "output_type": "stream",
     "text": [
      "\n",
      "\n",
      "\u001b[1m> Entering new AgentExecutor chain...\u001b[0m\n",
      "\u001b[32;1m\u001b[1;3mI'm sorry, I don't have access to your personal information like your name. How can I assist you today?\u001b[0m\n",
      "\n",
      "\u001b[1m> Finished chain.\u001b[0m\n"
     ]
    },
    {
     "data": {
      "text/plain": [
       "{'input': 'what is my name',\n",
       " 'output': \"I'm sorry, I don't have access to your personal information like your name. How can I assist you today?\"}"
      ]
     },
     "execution_count": 61,
     "metadata": {},
     "output_type": "execute_result"
    }
   ],
   "source": [
    "agent_executor.invoke({\"input\": \"what is my name\"})"
   ]
  },
  {
   "cell_type": "code",
   "execution_count": 62,
   "id": "7d1df28a-27da-4f8e-ab03-a37a276db74f",
   "metadata": {
    "height": 116
   },
   "outputs": [],
   "source": [
    "prompt = ChatPromptTemplate.from_messages([\n",
    "    (\"system\", \"You are helpful but sassy assistant\"),\n",
    "    MessagesPlaceholder(variable_name=\"chat_history\"),\n",
    "    (\"user\", \"{input}\"),\n",
    "    MessagesPlaceholder(variable_name=\"agent_scratchpad\")\n",
    "])"
   ]
  },
  {
   "cell_type": "code",
   "execution_count": 63,
   "id": "a8598e87-de8a-4710-a90e-2a919adc00e2",
   "metadata": {
    "height": 80
   },
   "outputs": [],
   "source": [
    "agent_chain = RunnablePassthrough.assign(\n",
    "    agent_scratchpad= lambda x: format_to_openai_functions(x[\"intermediate_steps\"])\n",
    ") | prompt | model | OpenAIFunctionsAgentOutputParser()"
   ]
  },
  {
   "cell_type": "code",
   "execution_count": 64,
   "id": "a3865c2c-cb80-4341-bcbe-3b5150749622",
   "metadata": {
    "height": 63
   },
   "outputs": [],
   "source": [
    "from langchain.memory import ConversationBufferMemory\n",
    "memory = ConversationBufferMemory(return_messages=True,memory_key=\"chat_history\")"
   ]
  },
  {
   "cell_type": "code",
   "execution_count": 65,
   "id": "40b036fc-446f-4075-9a92-9a4bac6ecb2b",
   "metadata": {
    "height": 46
   },
   "outputs": [],
   "source": [
    "agent_executor = AgentExecutor(agent=agent_chain, tools=tools, verbose=True, memory=memory)"
   ]
  },
  {
   "cell_type": "code",
   "execution_count": 66,
   "id": "37f70acf-57ff-4ab9-a942-f0ad6e680c40",
   "metadata": {
    "height": 31
   },
   "outputs": [
    {
     "name": "stdout",
     "output_type": "stream",
     "text": [
      "\n",
      "\n",
      "\u001b[1m> Entering new AgentExecutor chain...\u001b[0m\n",
      "\u001b[32;1m\u001b[1;3mNice to meet you, Bob! How can I assist you today?\u001b[0m\n",
      "\n",
      "\u001b[1m> Finished chain.\u001b[0m\n"
     ]
    },
    {
     "data": {
      "text/plain": [
       "{'input': 'my name is bob',\n",
       " 'chat_history': [HumanMessage(content='my name is bob'),\n",
       "  AIMessage(content='Nice to meet you, Bob! How can I assist you today?')],\n",
       " 'output': 'Nice to meet you, Bob! How can I assist you today?'}"
      ]
     },
     "execution_count": 66,
     "metadata": {},
     "output_type": "execute_result"
    }
   ],
   "source": [
    "agent_executor.invoke({\"input\": \"my name is bob\"})"
   ]
  },
  {
   "cell_type": "code",
   "execution_count": 67,
   "id": "a1554b0c-8c72-4d8d-bbed-20afd94828c5",
   "metadata": {
    "height": 31
   },
   "outputs": [
    {
     "name": "stdout",
     "output_type": "stream",
     "text": [
      "\n",
      "\n",
      "\u001b[1m> Entering new AgentExecutor chain...\u001b[0m\n",
      "\u001b[32;1m\u001b[1;3mYour name is Bob. How can I assist you today, Bob?\u001b[0m\n",
      "\n",
      "\u001b[1m> Finished chain.\u001b[0m\n"
     ]
    },
    {
     "data": {
      "text/plain": [
       "{'input': 'whats my name',\n",
       " 'chat_history': [HumanMessage(content='my name is bob'),\n",
       "  AIMessage(content='Nice to meet you, Bob! How can I assist you today?'),\n",
       "  HumanMessage(content='whats my name'),\n",
       "  AIMessage(content='Your name is Bob. How can I assist you today, Bob?')],\n",
       " 'output': 'Your name is Bob. How can I assist you today, Bob?'}"
      ]
     },
     "execution_count": 67,
     "metadata": {},
     "output_type": "execute_result"
    }
   ],
   "source": [
    "agent_executor.invoke({\"input\": \"whats my name\"})"
   ]
  },
  {
   "cell_type": "code",
   "execution_count": 68,
   "id": "40887f61-6746-4e51-852d-5ff0457384b7",
   "metadata": {
    "height": 31
   },
   "outputs": [
    {
     "name": "stdout",
     "output_type": "stream",
     "text": [
      "\n",
      "\n",
      "\u001b[1m> Entering new AgentExecutor chain...\u001b[0m\n",
      "\u001b[32;1m\u001b[1;3m\n",
      "Invoking: `get_keyword_news` with `{'keyword': 'science'}`\n",
      "\n",
      "\n",
      "\u001b[0m\u001b[36;1m\u001b[1;3m{'status': 'ok', 'totalResults': 23651, 'articles': [{'source': {'id': 'wired', 'name': 'Wired'}, 'author': 'Dennis Mersereau', 'title': \"Is the ‘Diaper’ Method in 'Twisters' a Real Solution For Massive Tornadoes? Not Exactly\", 'description': 'The ‘Twister’ sequel, which brought in over $80 billion at the box office this weekend, is full of good science. But its big reveal is full of spin.', 'url': 'https://www.wired.com/story/is-twisters-diaper-method-a-real-solution-for-massive-tornadoes/', 'urlToImage': 'https://media.wired.com/photos/66984861aa3eb0e4f25763c5/191:100/w_1280,c_limit/Twisters-Review-Culture.jpg', 'publishedAt': '2024-07-22T14:13:12Z', 'content': 'OK, so the films twins are possible, but what about its flaming tornado? During one of Twisters climatic moments multiple fireballs fill the stormy skies as a violent tornado runs through an industri… [+2709 chars]'}, {'source': {'id': 'the-verge', 'name': 'The Verge'}, 'author': 'David Pierce', 'title': 'Go Read This: The Verge’s favorite reads from all over the web', 'description': 'These are the best reads on the web about technology, science, entertainment, gaming, and more, curated by the staff of The Verge.', 'url': 'https://www.theverge.com/24188803/best-tech-reads-articles-books', 'urlToImage': 'https://cdn.vox-cdn.com/thumbor/SddIw5BuFj8hHOaZLhzX9S09KSQ=/0x0:2040x1360/1200x628/filters:focal(1020x680:1021x681)/cdn.vox-cdn.com/uploads/chorus_asset/file/13720553/VRG_ILLO_3180_AI_001.jpg', 'publishedAt': '2024-07-08T17:58:23Z', 'content': 'The internet is filled with awesome stuff to read, and theres new awesome stuff to read being published every day! Thats the good news. The bad news is that finding the good stuff feels harder than e… [+6401 chars]'}, {'source': {'id': None, 'name': 'BBC News'}, 'author': None, 'title': 'Why we might never know the truth about ultra-processed foods', 'description': 'Experts can’t agree how exactly they affect us and it’s not clear that science will give us an answer.', 'url': 'https://www.bbc.com/news/articles/cpe3pppw1z7o', 'urlToImage': 'https://ichef.bbci.co.uk/news/1024/branded_news/fe2f/live/df511c90-4a87-11ef-b2d2-cdb23d5d7c5b.png', 'publishedAt': '2024-07-27T23:33:23Z', 'content': 'They are the bête noire of many nutritionists - mass-produced yet moreish foods like chicken nuggets, packaged snacks, fizzy drinks, ice cream or even sliced brown bread.\\r\\nSo-called ultra-processed f… [+9706 chars]'}, {'source': {'id': None, 'name': 'BBC News'}, 'author': None, 'title': 'Could maths help in taking the perfect penalty?', 'description': 'Taking a penalty is an art, but Billy Watson says he has found a way to turn it into a science.', 'url': 'https://www.bbc.com/news/articles/cjm9ep377mxo', 'urlToImage': 'https://ichef.bbci.co.uk/news/1024/branded_news/9b6a/live/d30d7810-3d09-11ef-a044-9d4367d5b599.jpg', 'publishedAt': '2024-07-10T00:42:58Z', 'content': 'By\\xa0Charlie Haynes,\\xa0BBC News, East Midlands\\r\\nBilly Watson went down to Basford United Academy to put his theories on penalties to the test \\r\\nPenalties the word has long struck fear in the hearts of En… [+3513 chars]'}, {'source': {'id': None, 'name': 'Hackaday'}, 'author': 'Bryan Cockfield', 'title': 'Better Battery Design Through Science', 'description': 'Before the age of lithium batteries, any project needing to carry its own power had to rely on batteries that were much less energy-dense and affordable. In many ways, we take modern lithium techno…', 'url': 'https://hackaday.com/2024/08/02/better-battery-design-through-science/', 'urlToImage': 'https://hackaday.com/wp-content/uploads/2024/08/18650s.jpg', 'publishedAt': '2024-08-03T05:00:27Z', 'content': 'Before the age of lithium batteries, any project needing to carry its own power had to rely on batteries that were much less energy-dense and affordable. In many ways, we take modern lithium technolo… [+1607 chars]'}]}\u001b[0m\u001b[32;1m\u001b[1;3mHere are some recent news articles about science:\n",
      "\n",
      "1. Title: [Is the ‘Diaper’ Method in 'Twisters' a Real Solution For Massive Tornadoes? Not Exactly](https://www.wired.com/story/is-twisters-diaper-method-a-real-solution-for-massive-tornadoes/)\n",
      "   Source: Wired\n",
      "   Description: The ‘Twister’ sequel, which brought in over $80 billion at the box office this weekend, is full of good science. But its big reveal is full of spin.\n",
      "   Published At: 2024-07-22\n",
      "\n",
      "2. Title: [Why we might never know the truth about ultra-processed foods](https://www.bbc.com/news/articles/cpe3pppw1z7o)\n",
      "   Source: BBC News\n",
      "   Description: Experts can’t agree how exactly they affect us and it’s not clear that science will give us an answer.\n",
      "   Published At: 2024-07-27\n",
      "\n",
      "3. Title: [Could maths help in taking the perfect penalty?](https://www.bbc.com/news/articles/cjm9ep377mxo)\n",
      "   Source: BBC News\n",
      "   Description: Taking a penalty is an art, but Billy Watson says he has found a way to turn it into a science.\n",
      "   Published At: 2024-07-10\n",
      "\n",
      "4. Title: [Better Battery Design Through Science](https://hackaday.com/2024/08/02/better-battery-design-through-science/)\n",
      "   Source: Hackaday\n",
      "   Description: Before the age of lithium batteries, any project needing to carry its own power had to rely on batteries that were much less energy-dense and affordable. In many ways, we take modern lithium technology for granted.\n",
      "   Published At: 2024-08-03\n",
      "\n",
      "Feel free to click on the links to read more about each article!\u001b[0m\n",
      "\n",
      "\u001b[1m> Finished chain.\u001b[0m\n"
     ]
    },
    {
     "data": {
      "text/plain": [
       "{'input': 'what is news about science',\n",
       " 'chat_history': [HumanMessage(content='my name is bob'),\n",
       "  AIMessage(content='Nice to meet you, Bob! How can I assist you today?'),\n",
       "  HumanMessage(content='whats my name'),\n",
       "  AIMessage(content='Your name is Bob. How can I assist you today, Bob?'),\n",
       "  HumanMessage(content='what is news about science'),\n",
       "  AIMessage(content=\"Here are some recent news articles about science:\\n\\n1. Title: [Is the ‘Diaper’ Method in 'Twisters' a Real Solution For Massive Tornadoes? Not Exactly](https://www.wired.com/story/is-twisters-diaper-method-a-real-solution-for-massive-tornadoes/)\\n   Source: Wired\\n   Description: The ‘Twister’ sequel, which brought in over $80 billion at the box office this weekend, is full of good science. But its big reveal is full of spin.\\n   Published At: 2024-07-22\\n\\n2. Title: [Why we might never know the truth about ultra-processed foods](https://www.bbc.com/news/articles/cpe3pppw1z7o)\\n   Source: BBC News\\n   Description: Experts can’t agree how exactly they affect us and it’s not clear that science will give us an answer.\\n   Published At: 2024-07-27\\n\\n3. Title: [Could maths help in taking the perfect penalty?](https://www.bbc.com/news/articles/cjm9ep377mxo)\\n   Source: BBC News\\n   Description: Taking a penalty is an art, but Billy Watson says he has found a way to turn it into a science.\\n   Published At: 2024-07-10\\n\\n4. Title: [Better Battery Design Through Science](https://hackaday.com/2024/08/02/better-battery-design-through-science/)\\n   Source: Hackaday\\n   Description: Before the age of lithium batteries, any project needing to carry its own power had to rely on batteries that were much less energy-dense and affordable. In many ways, we take modern lithium technology for granted.\\n   Published At: 2024-08-03\\n\\nFeel free to click on the links to read more about each article!\")],\n",
       " 'output': \"Here are some recent news articles about science:\\n\\n1. Title: [Is the ‘Diaper’ Method in 'Twisters' a Real Solution For Massive Tornadoes? Not Exactly](https://www.wired.com/story/is-twisters-diaper-method-a-real-solution-for-massive-tornadoes/)\\n   Source: Wired\\n   Description: The ‘Twister’ sequel, which brought in over $80 billion at the box office this weekend, is full of good science. But its big reveal is full of spin.\\n   Published At: 2024-07-22\\n\\n2. Title: [Why we might never know the truth about ultra-processed foods](https://www.bbc.com/news/articles/cpe3pppw1z7o)\\n   Source: BBC News\\n   Description: Experts can’t agree how exactly they affect us and it’s not clear that science will give us an answer.\\n   Published At: 2024-07-27\\n\\n3. Title: [Could maths help in taking the perfect penalty?](https://www.bbc.com/news/articles/cjm9ep377mxo)\\n   Source: BBC News\\n   Description: Taking a penalty is an art, but Billy Watson says he has found a way to turn it into a science.\\n   Published At: 2024-07-10\\n\\n4. Title: [Better Battery Design Through Science](https://hackaday.com/2024/08/02/better-battery-design-through-science/)\\n   Source: Hackaday\\n   Description: Before the age of lithium batteries, any project needing to carry its own power had to rely on batteries that were much less energy-dense and affordable. In many ways, we take modern lithium technology for granted.\\n   Published At: 2024-08-03\\n\\nFeel free to click on the links to read more about each article!\"}"
      ]
     },
     "execution_count": 68,
     "metadata": {},
     "output_type": "execute_result"
    }
   ],
   "source": [
    "agent_executor.invoke({\"input\": \"what is news about science\"})"
   ]
  },
  {
   "cell_type": "markdown",
   "id": "34b0b511-21d6-4c7e-b4e2-f886bc296997",
   "metadata": {},
   "source": [
    "### Create a chatbot"
   ]
  },
  {
   "cell_type": "code",
   "execution_count": null,
   "id": "b1cd4bd2-703e-4e4e-8f5c-ae3d491a41f6",
   "metadata": {
    "height": 114
   },
   "outputs": [],
   "source": [
    "@tool\n",
    "def create_your_own(query: str) -> str:\n",
    "    \"\"\"This function can do whatever you would like once you fill it in \"\"\"\n",
    "    print(type(query))\n",
    "    return query[::-1]"
   ]
  },
  {
   "cell_type": "code",
   "execution_count": null,
   "id": "67cb6fdc-ff55-4a7b-8a39-1871006aa990",
   "metadata": {
    "height": 46
   },
   "outputs": [],
   "source": [
    "tools = [get_current_temperature, search_wikipedia, create_your_own]"
   ]
  },
  {
   "cell_type": "code",
   "execution_count": null,
   "id": "66a73e69-acfb-471e-b54d-8ac586235521",
   "metadata": {
    "height": 709
   },
   "outputs": [],
   "source": [
    "import panel as pn  # GUI\n",
    "pn.extension()\n",
    "import panel as pn\n",
    "import param\n",
    "\n",
    "class cbfs(param.Parameterized):\n",
    "    \n",
    "    def __init__(self, tools, **params):\n",
    "        super(cbfs, self).__init__( **params)\n",
    "        self.panels = []\n",
    "        self.functions = [format_tool_to_openai_function(f) for f in tools]\n",
    "        self.model = ChatOpenAI(temperature=0).bind(functions=self.functions)\n",
    "        self.memory = ConversationBufferMemory(return_messages=True,memory_key=\"chat_history\")\n",
    "        self.prompt = ChatPromptTemplate.from_messages([\n",
    "            (\"system\", \"You are helpful but sassy assistant\"),\n",
    "            MessagesPlaceholder(variable_name=\"chat_history\"),\n",
    "            (\"user\", \"{input}\"),\n",
    "            MessagesPlaceholder(variable_name=\"agent_scratchpad\")\n",
    "        ])\n",
    "        self.chain = RunnablePassthrough.assign(\n",
    "            agent_scratchpad = lambda x: format_to_openai_functions(x[\"intermediate_steps\"])\n",
    "        ) | self.prompt | self.model | OpenAIFunctionsAgentOutputParser()\n",
    "        self.qa = AgentExecutor(agent=self.chain, tools=tools, verbose=False, memory=self.memory)\n",
    "    \n",
    "    def convchain(self, query):\n",
    "        if not query:\n",
    "            return\n",
    "        inp.value = ''\n",
    "        result = self.qa.invoke({\"input\": query})\n",
    "        self.answer = result['output'] \n",
    "        self.panels.extend([\n",
    "            pn.Row('User:', pn.pane.Markdown(query, width=450)),\n",
    "            pn.Row('ChatBot:', pn.pane.Markdown(self.answer, width=450, styles={'background-color': '#F6F6F6'}))\n",
    "        ])\n",
    "        return pn.WidgetBox(*self.panels, scroll=True)\n",
    "\n",
    "\n",
    "    def clr_history(self,count=0):\n",
    "        self.chat_history = []\n",
    "        return "
   ]
  },
  {
   "cell_type": "code",
   "execution_count": null,
   "id": "080c3827-87fc-4dbe-a566-ca95b3f9068e",
   "metadata": {
    "height": 320
   },
   "outputs": [],
   "source": [
    "cb = cbfs(tools)\n",
    "\n",
    "inp = pn.widgets.TextInput( placeholder='Enter text here…')\n",
    "\n",
    "conversation = pn.bind(cb.convchain, inp) \n",
    "\n",
    "tab1 = pn.Column(\n",
    "    pn.Row(inp),\n",
    "    pn.layout.Divider(),\n",
    "    pn.panel(conversation,  loading_indicator=True, height=400),\n",
    "    pn.layout.Divider(),\n",
    ")\n",
    "\n",
    "dashboard = pn.Column(\n",
    "    pn.Row(pn.pane.Markdown('# QnA_Bot')),\n",
    "    pn.Tabs(('Conversation', tab1))\n",
    ")\n",
    "dashboard"
   ]
  },
  {
   "cell_type": "code",
   "execution_count": null,
   "id": "41804e2f-4dc1-4763-8893-5e76ab5d8f14",
   "metadata": {
    "height": 31
   },
   "outputs": [],
   "source": []
  },
  {
   "cell_type": "code",
   "execution_count": null,
   "id": "ef5fd8bc-9da5-4ca0-bfc9-c1bcf579fa05",
   "metadata": {
    "height": 31
   },
   "outputs": [],
   "source": []
  },
  {
   "cell_type": "code",
   "execution_count": null,
   "id": "f09b8125-6f4c-47e9-8654-44388b08bd85",
   "metadata": {
    "height": 31
   },
   "outputs": [],
   "source": []
  },
  {
   "cell_type": "code",
   "execution_count": null,
   "id": "72e1d6f9-fdc9-42eb-84be-dba81bbb63fd",
   "metadata": {
    "height": 31
   },
   "outputs": [],
   "source": []
  },
  {
   "cell_type": "code",
   "execution_count": null,
   "id": "513f302e-fcd3-424b-917a-e0e57602b93f",
   "metadata": {
    "height": 31
   },
   "outputs": [],
   "source": []
  },
  {
   "cell_type": "code",
   "execution_count": null,
   "id": "d97a43ab-06dc-4b48-b279-72230ab855f8",
   "metadata": {
    "height": 31
   },
   "outputs": [],
   "source": []
  },
  {
   "cell_type": "code",
   "execution_count": null,
   "id": "526ea19e-5454-4abe-9b6f-d50c0d594151",
   "metadata": {
    "height": 31
   },
   "outputs": [],
   "source": []
  },
  {
   "cell_type": "code",
   "execution_count": null,
   "id": "0ef90005-522a-4497-8247-e46fe0e33b3a",
   "metadata": {
    "height": 31
   },
   "outputs": [],
   "source": []
  },
  {
   "cell_type": "code",
   "execution_count": null,
   "id": "c8ffd8a1-3611-4b98-ad00-8abfdc9400bc",
   "metadata": {
    "height": 31
   },
   "outputs": [],
   "source": []
  },
  {
   "cell_type": "code",
   "execution_count": null,
   "id": "6f830c57-669f-4408-bc3d-1b7e309ca414",
   "metadata": {
    "height": 31
   },
   "outputs": [],
   "source": []
  },
  {
   "cell_type": "code",
   "execution_count": null,
   "id": "e2004f20-b480-465d-b881-1776963750fc",
   "metadata": {
    "height": 31
   },
   "outputs": [],
   "source": []
  },
  {
   "cell_type": "code",
   "execution_count": null,
   "id": "dcfab02a-9c9e-4e9c-adb7-b826c76adc5d",
   "metadata": {
    "height": 31
   },
   "outputs": [],
   "source": []
  },
  {
   "cell_type": "code",
   "execution_count": null,
   "id": "45cbc6dc-e1da-486f-85d9-17d1ca30edef",
   "metadata": {
    "height": 31
   },
   "outputs": [],
   "source": []
  },
  {
   "cell_type": "code",
   "execution_count": null,
   "id": "0bf9aed9-9202-4a0c-96fb-15353d4ba84f",
   "metadata": {
    "height": 31
   },
   "outputs": [],
   "source": []
  },
  {
   "cell_type": "code",
   "execution_count": null,
   "id": "ac1e8d1e-359f-484c-8ea0-b53c19d689ec",
   "metadata": {
    "height": 31
   },
   "outputs": [],
   "source": []
  },
  {
   "cell_type": "code",
   "execution_count": null,
   "id": "39c54949-26a0-46f9-b9ab-773ea77c4574",
   "metadata": {
    "height": 31
   },
   "outputs": [],
   "source": []
  },
  {
   "cell_type": "code",
   "execution_count": null,
   "id": "354cfca3-0004-4667-9db4-c1680a32be4d",
   "metadata": {
    "height": 31
   },
   "outputs": [],
   "source": []
  },
  {
   "cell_type": "code",
   "execution_count": null,
   "id": "e6178195-8834-48ae-b41c-c1d893027161",
   "metadata": {
    "height": 31
   },
   "outputs": [],
   "source": []
  },
  {
   "cell_type": "code",
   "execution_count": null,
   "id": "cd214a68-f432-4106-aeda-289082ae049e",
   "metadata": {
    "height": 31
   },
   "outputs": [],
   "source": []
  },
  {
   "cell_type": "code",
   "execution_count": null,
   "id": "901a4e83-7792-4e4a-8fff-c30dbcaa8be1",
   "metadata": {
    "height": 31
   },
   "outputs": [],
   "source": []
  },
  {
   "cell_type": "code",
   "execution_count": null,
   "id": "070b3eed-982f-4e84-8d8d-8c2a7447a717",
   "metadata": {
    "height": 31
   },
   "outputs": [],
   "source": []
  },
  {
   "cell_type": "code",
   "execution_count": null,
   "id": "7337263d-7b23-4584-a9dd-17d89e20e0c3",
   "metadata": {
    "height": 31
   },
   "outputs": [],
   "source": []
  },
  {
   "cell_type": "code",
   "execution_count": null,
   "id": "ceba85f9-3741-4f37-ba74-28cc59b6acea",
   "metadata": {
    "height": 31
   },
   "outputs": [],
   "source": []
  },
  {
   "cell_type": "code",
   "execution_count": null,
   "id": "2a332c84-8019-4211-a61b-f30f4e35d1f7",
   "metadata": {
    "height": 31
   },
   "outputs": [],
   "source": []
  },
  {
   "cell_type": "code",
   "execution_count": null,
   "id": "3da1622f-156f-4574-909d-0a276e3afe23",
   "metadata": {
    "height": 31
   },
   "outputs": [],
   "source": []
  },
  {
   "cell_type": "code",
   "execution_count": null,
   "id": "2b279336-c369-4b4b-8d0e-dac95590181f",
   "metadata": {
    "height": 31
   },
   "outputs": [],
   "source": []
  },
  {
   "cell_type": "code",
   "execution_count": null,
   "id": "7b4b5c36-fc6b-4f60-b8da-935873302630",
   "metadata": {
    "height": 31
   },
   "outputs": [],
   "source": []
  },
  {
   "cell_type": "code",
   "execution_count": null,
   "id": "a173aaa1-ede3-4c38-ac46-93b9a7352850",
   "metadata": {
    "height": 31
   },
   "outputs": [],
   "source": []
  },
  {
   "cell_type": "code",
   "execution_count": null,
   "id": "fa6869c6-ef60-4274-ad18-a8b2b112c205",
   "metadata": {
    "height": 31
   },
   "outputs": [],
   "source": []
  }
 ],
 "metadata": {
  "kernelspec": {
   "display_name": "Python 3 (ipykernel)",
   "language": "python",
   "name": "python3"
  },
  "language_info": {
   "codemirror_mode": {
    "name": "ipython",
    "version": 3
   },
   "file_extension": ".py",
   "mimetype": "text/x-python",
   "name": "python",
   "nbconvert_exporter": "python",
   "pygments_lexer": "ipython3",
   "version": "3.9.19"
  }
 },
 "nbformat": 4,
 "nbformat_minor": 5
}
